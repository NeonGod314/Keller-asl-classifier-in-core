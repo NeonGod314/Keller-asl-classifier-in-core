{
 "cells": [
  {
   "cell_type": "code",
   "execution_count": 1,
   "metadata": {},
   "outputs": [
    {
     "name": "stderr",
     "output_type": "stream",
     "text": [
      "C:\\Users\\shubhamkumar.singh\\AppData\\Local\\Continuum\\anaconda3\\lib\\site-packages\\h5py\\__init__.py:36: FutureWarning: Conversion of the second argument of issubdtype from `float` to `np.floating` is deprecated. In future, it will be treated as `np.float64 == np.dtype(float).type`.\n",
      "  from ._conv import register_converters as _register_converters\n"
     ]
    }
   ],
   "source": [
    "#imports\n",
    "import numpy as np\n",
    "from dnn_utils import *\n",
    "import tensorflow as tf\n",
    "from tensorflow.python.framework import ops\n",
    "from tensorflow.core.framework import graph_pb2\n",
    "from app_utils import *"
   ]
  },
  {
   "cell_type": "code",
   "execution_count": 2,
   "metadata": {},
   "outputs": [],
   "source": [
    "input_dir = 'input' \n",
    "file_data = load_images_for_inferencing('input')"
   ]
  },
  {
   "cell_type": "code",
   "execution_count": 3,
   "metadata": {},
   "outputs": [
    {
     "name": "stdout",
     "output_type": "stream",
     "text": [
      "{0: 'A', 1: 'B', 2: 'C', 3: 'del'}\n"
     ]
    }
   ],
   "source": [
    "dict_label_to_name = load_pickle('./modelData/dict_label_to_name.pickle')\n",
    "print (dict_label_to_name)                                 "
   ]
  },
  {
   "cell_type": "code",
   "execution_count": 4,
   "metadata": {},
   "outputs": [
    {
     "name": "stdout",
     "output_type": "stream",
     "text": [
      "INFO:tensorflow:Restoring parameters from b'./xoxo2/variables\\\\variables'\n",
      "Predicted Labels:  [3 3]\n"
     ]
    }
   ],
   "source": [
    "with tf.Session(graph = tf.Graph()) as sess:\n",
    "    tf.saved_model.loader.load(sess, [\"serve\"],'./xoxo2/')\n",
    "    \n",
    "    graph = tf.get_default_graph()\n",
    "    #print (graph.get_operations())\n",
    "    graph_def = graph_pb2.GraphDef()\n",
    " \n",
    "    predicted_labels = sess.run('predict_op:0',\n",
    "                               feed_dict = {'myInput:0':file_data[\"inferencing_input\"]})\n",
    "    print (\"Predicted Labels: \", predicted_labels)"
   ]
  },
  {
   "cell_type": "code",
   "execution_count": 5,
   "metadata": {},
   "outputs": [
    {
     "name": "stdout",
     "output_type": "stream",
     "text": [
      "input\\0_del15.jpg  :  3  :  del\n",
      "input\\0_del18.jpg  :  3  :  del\n"
     ]
    },
    {
     "data": {
      "text/plain": [
       "['del', 'del']"
      ]
     },
     "execution_count": 5,
     "metadata": {},
     "output_type": "execute_result"
    }
   ],
   "source": [
    "for i in range(len(predicted_labels)):\n",
    "    print (file_data[\"file_loc\"][i], \" : \", predicted_labels[i],\" : \", dict_label_to_name[predicted_labels[i]])\n",
    "[convert_classLabel_to_className(label, dict_label_to_name) for label in predicted_labels]"
   ]
  },
  {
   "cell_type": "code",
   "execution_count": 6,
   "metadata": {},
   "outputs": [
    {
     "name": "stdout",
     "output_type": "stream",
     "text": [
      "Directory already exists :  input/del\n"
     ]
    }
   ],
   "source": [
    "create_folders_for_predicted_classes(predicted_labels, dict_label_to_name, input_dir)"
   ]
  },
  {
   "cell_type": "code",
   "execution_count": 7,
   "metadata": {},
   "outputs": [],
   "source": [
    "file_data = data_merge(predicted_labels, file_data, dict_label_to_name)"
   ]
  },
  {
   "cell_type": "code",
   "execution_count": 8,
   "metadata": {},
   "outputs": [],
   "source": [
    "move_input_to_classFiles(input_dir, file_data)"
   ]
  },
  {
   "cell_type": "code",
   "execution_count": null,
   "metadata": {},
   "outputs": [],
   "source": []
  }
 ],
 "metadata": {
  "kernelspec": {
   "display_name": "Python 3",
   "language": "python",
   "name": "python3"
  },
  "language_info": {
   "codemirror_mode": {
    "name": "ipython",
    "version": 3
   },
   "file_extension": ".py",
   "mimetype": "text/x-python",
   "name": "python",
   "nbconvert_exporter": "python",
   "pygments_lexer": "ipython3",
   "version": "3.6.4"
  }
 },
 "nbformat": 4,
 "nbformat_minor": 2
}
